{
 "cells": [
  {
   "cell_type": "code",
   "execution_count": null,
   "metadata": {},
   "outputs": [],
   "source": [
    "install.packages(\"fpp3\")\n",
    "# note you might need to install gcc-fortran on Arch Linux\n",
    "# in order to install the ursa package that fpp3 requires"
   ]
  },
  {
   "cell_type": "code",
   "execution_count": null,
   "metadata": {},
   "outputs": [],
   "source": [
    "install.packages(\"fma\")"
   ]
  },
  {
   "cell_type": "code",
   "execution_count": null,
   "metadata": {},
   "outputs": [],
   "source": [
    "install.packages(\"readr\")  # required for ts2csv function"
   ]
  },
  {
   "cell_type": "code",
   "execution_count": null,
   "metadata": {},
   "outputs": [],
   "source": [
    "library(fpp3)\n",
    "library(dplyr)\n",
    "library(purrr)\n",
    "library(fma)"
   ]
  },
  {
   "cell_type": "code",
   "execution_count": null,
   "metadata": {},
   "outputs": [],
   "source": [
    "ts2csv <- function(objname, pname) {\n",
    "    dir.create(paste0('data/', pname), showWarnings = FALSE)\n",
    "    fname <- paste0('data/', pname, '/', objname, '.csv')\n",
    "    x = get(objname)\n",
    "    tryCatch({\n",
    "        readr::write_csv(x, fname)\n",
    "        print(fname)\n",
    "    }, warning = function(w) {\n",
    "    }, error = function(e) {\n",
    "        print(paste0(fname, \" <-- error\"))\n",
    "    }, finally = {\n",
    "    })\n",
    "}"
   ]
  },
  {
   "cell_type": "code",
   "execution_count": null,
   "metadata": {},
   "outputs": [],
   "source": [
    "for (pname in list(\"fpp3\", \"tsibbledata\", \"tsibble\", \"fma\")) {\n",
    "    x <- as.data.frame(data(package=pname)[3])\n",
    "    for (objname in x$results.Item) {\n",
    "        ts2csv(objname, pname)\n",
    "    }\n",
    "}"
   ]
  },
  {
   "cell_type": "code",
   "execution_count": null,
   "metadata": {},
   "outputs": [],
   "source": [
    "data()"
   ]
  },
  {
   "cell_type": "code",
   "execution_count": null,
   "metadata": {},
   "outputs": [],
   "source": [
    "readr::write_csv(as_tibble(fma::sheep), 'data/fma/sheep.csv')"
   ]
  },
  {
   "cell_type": "code",
   "execution_count": null,
   "metadata": {},
   "outputs": [],
   "source": [
    "readr::write_csv(as_tibble(fma::bicoal), 'data/fma/bicoal.csv')"
   ]
  },
  {
   "cell_type": "code",
   "execution_count": null,
   "metadata": {},
   "outputs": [],
   "source": []
  }
 ],
 "metadata": {
  "kernelspec": {
   "display_name": "R",
   "language": "R",
   "name": "ir"
  },
  "language_info": {
   "codemirror_mode": "r",
   "file_extension": ".r",
   "mimetype": "text/x-r-source",
   "name": "R",
   "pygments_lexer": "r",
   "version": "4.1.1"
  }
 },
 "nbformat": 4,
 "nbformat_minor": 4
}
